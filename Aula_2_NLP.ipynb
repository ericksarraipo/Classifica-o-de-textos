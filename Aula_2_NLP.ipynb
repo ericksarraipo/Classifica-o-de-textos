{
  "cells": [
    {
      "cell_type": "markdown",
      "id": "c8771948-01b8-43b4-bb64-7bf67af323e7",
      "metadata": {
        "id": "c8771948-01b8-43b4-bb64-7bf67af323e7"
      },
      "source": [
        "# Classificação de textos\n",
        "\n",
        "Para entender melhor o problema de classificação de textos, vamos começar com um exemplo básico que servirá como intuição para nos aprofundarmos depois"
      ]
    },
    {
      "cell_type": "code",
      "execution_count": null,
      "id": "246f6771-b566-4260-afa0-1d706e06d6c8",
      "metadata": {
        "id": "246f6771-b566-4260-afa0-1d706e06d6c8",
        "outputId": "c22cc7c4-4833-4b39-a8b6-a10ee6baa34b"
      },
      "outputs": [
        {
          "data": {
            "text/html": [
              "<div>\n",
              "<style scoped>\n",
              "    .dataframe tbody tr th:only-of-type {\n",
              "        vertical-align: middle;\n",
              "    }\n",
              "\n",
              "    .dataframe tbody tr th {\n",
              "        vertical-align: top;\n",
              "    }\n",
              "\n",
              "    .dataframe thead th {\n",
              "        text-align: right;\n",
              "    }\n",
              "</style>\n",
              "<table border=\"1\" class=\"dataframe\">\n",
              "  <thead>\n",
              "    <tr style=\"text-align: right;\">\n",
              "      <th></th>\n",
              "      <th>text</th>\n",
              "      <th>class</th>\n",
              "    </tr>\n",
              "  </thead>\n",
              "  <tbody>\n",
              "    <tr>\n",
              "      <th>0</th>\n",
              "      <td>Sobre MBA? Eu gostei muito do MBA da FIAP</td>\n",
              "      <td>positivo</td>\n",
              "    </tr>\n",
              "    <tr>\n",
              "      <th>1</th>\n",
              "      <td>O MBA da FIAP pode melhorar, não gostei muito</td>\n",
              "      <td>negativo</td>\n",
              "    </tr>\n",
              "    <tr>\n",
              "      <th>2</th>\n",
              "      <td>Foi muito importante para meu desenvolvimento</td>\n",
              "      <td>positivo</td>\n",
              "    </tr>\n",
              "    <tr>\n",
              "      <th>3</th>\n",
              "      <td>Poderia ser mais técnico. Não gostei</td>\n",
              "      <td>negativo</td>\n",
              "    </tr>\n",
              "  </tbody>\n",
              "</table>\n",
              "</div>"
            ],
            "text/plain": [
              "                                            text     class\n",
              "0      Sobre MBA? Eu gostei muito do MBA da FIAP  positivo\n",
              "1  O MBA da FIAP pode melhorar, não gostei muito  negativo\n",
              "2  Foi muito importante para meu desenvolvimento  positivo\n",
              "3           Poderia ser mais técnico. Não gostei  negativo"
            ]
          },
          "execution_count": 4,
          "metadata": {},
          "output_type": "execute_result"
        }
      ],
      "source": [
        "import pandas as pd\n",
        "pd.set_option('display.max_rows', 500)\n",
        "pd.set_option('display.max_columns', 500)\n",
        "pd.set_option('display.width', 1000)\n",
        "\n",
        "# exemplo de documento e corpus\n",
        "df_fiap = pd.DataFrame({\n",
        "    'text': [\n",
        "      'Sobre MBA? Eu gostei muito do MBA da FIAP',\n",
        "      'O MBA da FIAP pode melhorar, não gostei muito',\n",
        "      'Foi muito importante para meu desenvolvimento',\n",
        "      'Poderia ser mais técnico. Não gostei'\n",
        "    ],\n",
        "    'class': [\n",
        "      'positivo',\n",
        "      'negativo',\n",
        "      'positivo',\n",
        "      'negativo'\n",
        "    ]})\n",
        "\n",
        "df_fiap.head()"
      ]
    },
    {
      "cell_type": "markdown",
      "id": "f9e2f64b-6020-4bad-af4a-1732382594bf",
      "metadata": {
        "id": "f9e2f64b-6020-4bad-af4a-1732382594bf"
      },
      "source": [
        "Podemos vetorizar os dados e ver como fica o espaço de características nesse caso. Vamos usar a mesma solução que vimos aula passada:"
      ]
    },
    {
      "cell_type": "code",
      "execution_count": null,
      "id": "c7190b62-b23b-438f-9244-453a620208af",
      "metadata": {
        "id": "c7190b62-b23b-438f-9244-453a620208af",
        "outputId": "62a5a354-fa53-44d2-b695-c84a59c87df5"
      },
      "outputs": [
        {
          "data": {
            "text/html": [
              "<div>\n",
              "<style scoped>\n",
              "    .dataframe tbody tr th:only-of-type {\n",
              "        vertical-align: middle;\n",
              "    }\n",
              "\n",
              "    .dataframe tbody tr th {\n",
              "        vertical-align: top;\n",
              "    }\n",
              "\n",
              "    .dataframe thead th {\n",
              "        text-align: right;\n",
              "    }\n",
              "</style>\n",
              "<table border=\"1\" class=\"dataframe\">\n",
              "  <thead>\n",
              "    <tr style=\"text-align: right;\">\n",
              "      <th></th>\n",
              "      <th>da</th>\n",
              "      <th>desenvolvimento</th>\n",
              "      <th>do</th>\n",
              "      <th>eu</th>\n",
              "      <th>fiap</th>\n",
              "      <th>foi</th>\n",
              "      <th>gostei</th>\n",
              "      <th>importante</th>\n",
              "      <th>mais</th>\n",
              "      <th>mba</th>\n",
              "      <th>melhorar</th>\n",
              "      <th>meu</th>\n",
              "      <th>muito</th>\n",
              "      <th>não</th>\n",
              "      <th>para</th>\n",
              "      <th>pode</th>\n",
              "      <th>poderia</th>\n",
              "      <th>ser</th>\n",
              "      <th>sobre</th>\n",
              "      <th>técnico</th>\n",
              "    </tr>\n",
              "  </thead>\n",
              "  <tbody>\n",
              "    <tr>\n",
              "      <th>0</th>\n",
              "      <td>1</td>\n",
              "      <td>0</td>\n",
              "      <td>1</td>\n",
              "      <td>1</td>\n",
              "      <td>1</td>\n",
              "      <td>0</td>\n",
              "      <td>1</td>\n",
              "      <td>0</td>\n",
              "      <td>0</td>\n",
              "      <td>2</td>\n",
              "      <td>0</td>\n",
              "      <td>0</td>\n",
              "      <td>1</td>\n",
              "      <td>0</td>\n",
              "      <td>0</td>\n",
              "      <td>0</td>\n",
              "      <td>0</td>\n",
              "      <td>0</td>\n",
              "      <td>1</td>\n",
              "      <td>0</td>\n",
              "    </tr>\n",
              "    <tr>\n",
              "      <th>1</th>\n",
              "      <td>1</td>\n",
              "      <td>0</td>\n",
              "      <td>0</td>\n",
              "      <td>0</td>\n",
              "      <td>1</td>\n",
              "      <td>0</td>\n",
              "      <td>1</td>\n",
              "      <td>0</td>\n",
              "      <td>0</td>\n",
              "      <td>1</td>\n",
              "      <td>1</td>\n",
              "      <td>0</td>\n",
              "      <td>1</td>\n",
              "      <td>1</td>\n",
              "      <td>0</td>\n",
              "      <td>1</td>\n",
              "      <td>0</td>\n",
              "      <td>0</td>\n",
              "      <td>0</td>\n",
              "      <td>0</td>\n",
              "    </tr>\n",
              "    <tr>\n",
              "      <th>2</th>\n",
              "      <td>0</td>\n",
              "      <td>1</td>\n",
              "      <td>0</td>\n",
              "      <td>0</td>\n",
              "      <td>0</td>\n",
              "      <td>1</td>\n",
              "      <td>0</td>\n",
              "      <td>1</td>\n",
              "      <td>0</td>\n",
              "      <td>0</td>\n",
              "      <td>0</td>\n",
              "      <td>1</td>\n",
              "      <td>1</td>\n",
              "      <td>0</td>\n",
              "      <td>1</td>\n",
              "      <td>0</td>\n",
              "      <td>0</td>\n",
              "      <td>0</td>\n",
              "      <td>0</td>\n",
              "      <td>0</td>\n",
              "    </tr>\n",
              "    <tr>\n",
              "      <th>3</th>\n",
              "      <td>0</td>\n",
              "      <td>0</td>\n",
              "      <td>0</td>\n",
              "      <td>0</td>\n",
              "      <td>0</td>\n",
              "      <td>0</td>\n",
              "      <td>1</td>\n",
              "      <td>0</td>\n",
              "      <td>1</td>\n",
              "      <td>0</td>\n",
              "      <td>0</td>\n",
              "      <td>0</td>\n",
              "      <td>0</td>\n",
              "      <td>1</td>\n",
              "      <td>0</td>\n",
              "      <td>0</td>\n",
              "      <td>1</td>\n",
              "      <td>1</td>\n",
              "      <td>0</td>\n",
              "      <td>1</td>\n",
              "    </tr>\n",
              "  </tbody>\n",
              "</table>\n",
              "</div>"
            ],
            "text/plain": [
              "   da  desenvolvimento  do  eu  fiap  foi  gostei  importante  mais  mba  \\\n",
              "0   1                0   1   1     1    0       1           0     0    2   \n",
              "1   1                0   0   0     1    0       1           0     0    1   \n",
              "2   0                1   0   0     0    1       0           1     0    0   \n",
              "3   0                0   0   0     0    0       1           0     1    0   \n",
              "\n",
              "   melhorar  meu  muito  não  para  pode  poderia  ser  sobre  técnico  \n",
              "0         0    0      1    0     0     0        0    0      1        0  \n",
              "1         1    0      1    1     0     1        0    0      0        0  \n",
              "2         0    1      1    0     1     0        0    0      0        0  \n",
              "3         0    0      0    1     0     0        1    1      0        1  "
            ]
          },
          "execution_count": 2,
          "metadata": {},
          "output_type": "execute_result"
        }
      ],
      "source": [
        "from sklearn.feature_extraction.text import CountVectorizer\n",
        "\n",
        "vect = CountVectorizer(ngram_range=(1,1))\n",
        "vect.fit(df_fiap.text)\n",
        "text_vect = vect.transform(df_fiap.text)\n",
        "\n",
        "pd.DataFrame(text_vect.A, columns=vect.get_feature_names_out())"
      ]
    },
    {
      "cell_type": "markdown",
      "id": "dbea5769-9a41-438e-825d-6166ebf6f756",
      "metadata": {
        "id": "dbea5769-9a41-438e-825d-6166ebf6f756"
      },
      "source": [
        "Usando Bigrama"
      ]
    },
    {
      "cell_type": "code",
      "execution_count": null,
      "id": "c3aec8ef-66dd-454b-ac81-a2245303526e",
      "metadata": {
        "id": "c3aec8ef-66dd-454b-ac81-a2245303526e",
        "outputId": "1a6252c1-2969-4103-b6ca-bca2fd1b47a7"
      },
      "outputs": [
        {
          "data": {
            "text/html": [
              "<div>\n",
              "<style scoped>\n",
              "    .dataframe tbody tr th:only-of-type {\n",
              "        vertical-align: middle;\n",
              "    }\n",
              "\n",
              "    .dataframe tbody tr th {\n",
              "        vertical-align: top;\n",
              "    }\n",
              "\n",
              "    .dataframe thead th {\n",
              "        text-align: right;\n",
              "    }\n",
              "</style>\n",
              "<table border=\"1\" class=\"dataframe\">\n",
              "  <thead>\n",
              "    <tr style=\"text-align: right;\">\n",
              "      <th></th>\n",
              "      <th>da fiap</th>\n",
              "      <th>do mba</th>\n",
              "      <th>eu gostei</th>\n",
              "      <th>fiap pode</th>\n",
              "      <th>foi muito</th>\n",
              "      <th>gostei muito</th>\n",
              "      <th>importante para</th>\n",
              "      <th>mais técnico</th>\n",
              "      <th>mba da</th>\n",
              "      <th>mba eu</th>\n",
              "      <th>melhorar não</th>\n",
              "      <th>meu desenvolvimento</th>\n",
              "      <th>muito do</th>\n",
              "      <th>muito importante</th>\n",
              "      <th>não gostei</th>\n",
              "      <th>para meu</th>\n",
              "      <th>pode melhorar</th>\n",
              "      <th>poderia ser</th>\n",
              "      <th>ser mais</th>\n",
              "      <th>sobre mba</th>\n",
              "      <th>técnico não</th>\n",
              "    </tr>\n",
              "  </thead>\n",
              "  <tbody>\n",
              "    <tr>\n",
              "      <th>0</th>\n",
              "      <td>1</td>\n",
              "      <td>1</td>\n",
              "      <td>1</td>\n",
              "      <td>0</td>\n",
              "      <td>0</td>\n",
              "      <td>1</td>\n",
              "      <td>0</td>\n",
              "      <td>0</td>\n",
              "      <td>1</td>\n",
              "      <td>1</td>\n",
              "      <td>0</td>\n",
              "      <td>0</td>\n",
              "      <td>1</td>\n",
              "      <td>0</td>\n",
              "      <td>0</td>\n",
              "      <td>0</td>\n",
              "      <td>0</td>\n",
              "      <td>0</td>\n",
              "      <td>0</td>\n",
              "      <td>1</td>\n",
              "      <td>0</td>\n",
              "    </tr>\n",
              "    <tr>\n",
              "      <th>1</th>\n",
              "      <td>1</td>\n",
              "      <td>0</td>\n",
              "      <td>0</td>\n",
              "      <td>1</td>\n",
              "      <td>0</td>\n",
              "      <td>1</td>\n",
              "      <td>0</td>\n",
              "      <td>0</td>\n",
              "      <td>1</td>\n",
              "      <td>0</td>\n",
              "      <td>1</td>\n",
              "      <td>0</td>\n",
              "      <td>0</td>\n",
              "      <td>0</td>\n",
              "      <td>1</td>\n",
              "      <td>0</td>\n",
              "      <td>1</td>\n",
              "      <td>0</td>\n",
              "      <td>0</td>\n",
              "      <td>0</td>\n",
              "      <td>0</td>\n",
              "    </tr>\n",
              "    <tr>\n",
              "      <th>2</th>\n",
              "      <td>0</td>\n",
              "      <td>0</td>\n",
              "      <td>0</td>\n",
              "      <td>0</td>\n",
              "      <td>1</td>\n",
              "      <td>0</td>\n",
              "      <td>1</td>\n",
              "      <td>0</td>\n",
              "      <td>0</td>\n",
              "      <td>0</td>\n",
              "      <td>0</td>\n",
              "      <td>1</td>\n",
              "      <td>0</td>\n",
              "      <td>1</td>\n",
              "      <td>0</td>\n",
              "      <td>1</td>\n",
              "      <td>0</td>\n",
              "      <td>0</td>\n",
              "      <td>0</td>\n",
              "      <td>0</td>\n",
              "      <td>0</td>\n",
              "    </tr>\n",
              "    <tr>\n",
              "      <th>3</th>\n",
              "      <td>0</td>\n",
              "      <td>0</td>\n",
              "      <td>0</td>\n",
              "      <td>0</td>\n",
              "      <td>0</td>\n",
              "      <td>0</td>\n",
              "      <td>0</td>\n",
              "      <td>1</td>\n",
              "      <td>0</td>\n",
              "      <td>0</td>\n",
              "      <td>0</td>\n",
              "      <td>0</td>\n",
              "      <td>0</td>\n",
              "      <td>0</td>\n",
              "      <td>1</td>\n",
              "      <td>0</td>\n",
              "      <td>0</td>\n",
              "      <td>1</td>\n",
              "      <td>1</td>\n",
              "      <td>0</td>\n",
              "      <td>1</td>\n",
              "    </tr>\n",
              "  </tbody>\n",
              "</table>\n",
              "</div>"
            ],
            "text/plain": [
              "   da fiap  do mba  eu gostei  fiap pode  foi muito  gostei muito  importante para  mais técnico  mba da  mba eu  melhorar não  meu desenvolvimento  muito do  muito importante  não gostei  para meu  pode melhorar  poderia ser  ser mais  sobre mba  técnico não\n",
              "0        1       1          1          0          0             1                0             0       1       1             0                    0         1                 0           0         0              0            0         0          1            0\n",
              "1        1       0          0          1          0             1                0             0       1       0             1                    0         0                 0           1         0              1            0         0          0            0\n",
              "2        0       0          0          0          1             0                1             0       0       0             0                    1         0                 1           0         1              0            0         0          0            0\n",
              "3        0       0          0          0          0             0                0             1       0       0             0                    0         0                 0           1         0              0            1         1          0            1"
            ]
          },
          "execution_count": 5,
          "metadata": {},
          "output_type": "execute_result"
        }
      ],
      "source": [
        "from sklearn.feature_extraction.text import CountVectorizer\n",
        "\n",
        "vect = CountVectorizer(ngram_range=(2,2))\n",
        "vect.fit(df_fiap.text)\n",
        "text_vect = vect.transform(df_fiap.text)\n",
        "\n",
        "pd.DataFrame(text_vect.A, columns=vect.get_feature_names_out())"
      ]
    },
    {
      "cell_type": "markdown",
      "id": "690d3ab2-3a44-4704-a730-0c5cc67c8f50",
      "metadata": {
        "id": "690d3ab2-3a44-4704-a730-0c5cc67c8f50"
      },
      "source": [
        "Usando Trigrama"
      ]
    },
    {
      "cell_type": "code",
      "execution_count": null,
      "id": "df591a61-4d3b-405a-949c-09e01540e323",
      "metadata": {
        "id": "df591a61-4d3b-405a-949c-09e01540e323",
        "outputId": "28932a45-6399-4053-e782-c84c8d10b834"
      },
      "outputs": [
        {
          "data": {
            "text/html": [
              "<div>\n",
              "<style scoped>\n",
              "    .dataframe tbody tr th:only-of-type {\n",
              "        vertical-align: middle;\n",
              "    }\n",
              "\n",
              "    .dataframe tbody tr th {\n",
              "        vertical-align: top;\n",
              "    }\n",
              "\n",
              "    .dataframe thead th {\n",
              "        text-align: right;\n",
              "    }\n",
              "</style>\n",
              "<table border=\"1\" class=\"dataframe\">\n",
              "  <thead>\n",
              "    <tr style=\"text-align: right;\">\n",
              "      <th></th>\n",
              "      <th>da fiap pode</th>\n",
              "      <th>do mba da</th>\n",
              "      <th>eu gostei muito</th>\n",
              "      <th>fiap pode melhorar</th>\n",
              "      <th>foi muito importante</th>\n",
              "      <th>gostei muito do</th>\n",
              "      <th>importante para meu</th>\n",
              "      <th>mais técnico não</th>\n",
              "      <th>mba da fiap</th>\n",
              "      <th>mba eu gostei</th>\n",
              "      <th>melhorar não gostei</th>\n",
              "      <th>muito do mba</th>\n",
              "      <th>muito importante para</th>\n",
              "      <th>não gostei muito</th>\n",
              "      <th>para meu desenvolvimento</th>\n",
              "      <th>pode melhorar não</th>\n",
              "      <th>poderia ser mais</th>\n",
              "      <th>ser mais técnico</th>\n",
              "      <th>sobre mba eu</th>\n",
              "      <th>técnico não gostei</th>\n",
              "    </tr>\n",
              "  </thead>\n",
              "  <tbody>\n",
              "    <tr>\n",
              "      <th>0</th>\n",
              "      <td>0</td>\n",
              "      <td>1</td>\n",
              "      <td>1</td>\n",
              "      <td>0</td>\n",
              "      <td>0</td>\n",
              "      <td>1</td>\n",
              "      <td>0</td>\n",
              "      <td>0</td>\n",
              "      <td>1</td>\n",
              "      <td>1</td>\n",
              "      <td>0</td>\n",
              "      <td>1</td>\n",
              "      <td>0</td>\n",
              "      <td>0</td>\n",
              "      <td>0</td>\n",
              "      <td>0</td>\n",
              "      <td>0</td>\n",
              "      <td>0</td>\n",
              "      <td>1</td>\n",
              "      <td>0</td>\n",
              "    </tr>\n",
              "    <tr>\n",
              "      <th>1</th>\n",
              "      <td>1</td>\n",
              "      <td>0</td>\n",
              "      <td>0</td>\n",
              "      <td>1</td>\n",
              "      <td>0</td>\n",
              "      <td>0</td>\n",
              "      <td>0</td>\n",
              "      <td>0</td>\n",
              "      <td>1</td>\n",
              "      <td>0</td>\n",
              "      <td>1</td>\n",
              "      <td>0</td>\n",
              "      <td>0</td>\n",
              "      <td>1</td>\n",
              "      <td>0</td>\n",
              "      <td>1</td>\n",
              "      <td>0</td>\n",
              "      <td>0</td>\n",
              "      <td>0</td>\n",
              "      <td>0</td>\n",
              "    </tr>\n",
              "    <tr>\n",
              "      <th>2</th>\n",
              "      <td>0</td>\n",
              "      <td>0</td>\n",
              "      <td>0</td>\n",
              "      <td>0</td>\n",
              "      <td>1</td>\n",
              "      <td>0</td>\n",
              "      <td>1</td>\n",
              "      <td>0</td>\n",
              "      <td>0</td>\n",
              "      <td>0</td>\n",
              "      <td>0</td>\n",
              "      <td>0</td>\n",
              "      <td>1</td>\n",
              "      <td>0</td>\n",
              "      <td>1</td>\n",
              "      <td>0</td>\n",
              "      <td>0</td>\n",
              "      <td>0</td>\n",
              "      <td>0</td>\n",
              "      <td>0</td>\n",
              "    </tr>\n",
              "    <tr>\n",
              "      <th>3</th>\n",
              "      <td>0</td>\n",
              "      <td>0</td>\n",
              "      <td>0</td>\n",
              "      <td>0</td>\n",
              "      <td>0</td>\n",
              "      <td>0</td>\n",
              "      <td>0</td>\n",
              "      <td>1</td>\n",
              "      <td>0</td>\n",
              "      <td>0</td>\n",
              "      <td>0</td>\n",
              "      <td>0</td>\n",
              "      <td>0</td>\n",
              "      <td>0</td>\n",
              "      <td>0</td>\n",
              "      <td>0</td>\n",
              "      <td>1</td>\n",
              "      <td>1</td>\n",
              "      <td>0</td>\n",
              "      <td>1</td>\n",
              "    </tr>\n",
              "  </tbody>\n",
              "</table>\n",
              "</div>"
            ],
            "text/plain": [
              "   da fiap pode  do mba da  eu gostei muito  fiap pode melhorar  foi muito importante  gostei muito do  importante para meu  mais técnico não  mba da fiap  mba eu gostei  melhorar não gostei  muito do mba  muito importante para  não gostei muito  para meu desenvolvimento  pode melhorar não  poderia ser mais  ser mais técnico  sobre mba eu  técnico não gostei\n",
              "0             0          1                1                   0                     0                1                    0                 0            1              1                    0             1                      0                 0                         0                  0                 0                 0             1                   0\n",
              "1             1          0                0                   1                     0                0                    0                 0            1              0                    1             0                      0                 1                         0                  1                 0                 0             0                   0\n",
              "2             0          0                0                   0                     1                0                    1                 0            0              0                    0             0                      1                 0                         1                  0                 0                 0             0                   0\n",
              "3             0          0                0                   0                     0                0                    0                 1            0              0                    0             0                      0                 0                         0                  0                 1                 1             0                   1"
            ]
          },
          "execution_count": 7,
          "metadata": {},
          "output_type": "execute_result"
        }
      ],
      "source": [
        "from sklearn.feature_extraction.text import CountVectorizer\n",
        "\n",
        "vect = CountVectorizer(ngram_range=(3,3))\n",
        "vect.fit(df_fiap.text)\n",
        "text_vect = vect.transform(df_fiap.text)\n",
        "\n",
        "pd.DataFrame(text_vect.A, columns=vect.get_feature_names_out())"
      ]
    },
    {
      "cell_type": "markdown",
      "id": "09d0fd02-42a8-46ec-8d93-64ebabab02a7",
      "metadata": {
        "id": "09d0fd02-42a8-46ec-8d93-64ebabab02a7"
      },
      "source": [
        "Podemos ver como fica a representação usando TFIDF. É interessante fazer uma comparação com a solução usando Unigram"
      ]
    },
    {
      "cell_type": "code",
      "execution_count": null,
      "id": "179334f0-0645-4f15-b324-8ea86f9747b3",
      "metadata": {
        "id": "179334f0-0645-4f15-b324-8ea86f9747b3",
        "outputId": "4d5353a1-c8ed-4c2d-c1ca-2e688db8c08a"
      },
      "outputs": [
        {
          "data": {
            "text/html": [
              "<div>\n",
              "<style scoped>\n",
              "    .dataframe tbody tr th:only-of-type {\n",
              "        vertical-align: middle;\n",
              "    }\n",
              "\n",
              "    .dataframe tbody tr th {\n",
              "        vertical-align: top;\n",
              "    }\n",
              "\n",
              "    .dataframe thead th {\n",
              "        text-align: right;\n",
              "    }\n",
              "</style>\n",
              "<table border=\"1\" class=\"dataframe\">\n",
              "  <thead>\n",
              "    <tr style=\"text-align: right;\">\n",
              "      <th></th>\n",
              "      <th>da</th>\n",
              "      <th>desenvolvimento</th>\n",
              "      <th>do</th>\n",
              "      <th>eu</th>\n",
              "      <th>fiap</th>\n",
              "      <th>foi</th>\n",
              "      <th>gostei</th>\n",
              "      <th>importante</th>\n",
              "      <th>mais</th>\n",
              "      <th>mba</th>\n",
              "      <th>melhorar</th>\n",
              "      <th>meu</th>\n",
              "      <th>muito</th>\n",
              "      <th>não</th>\n",
              "      <th>para</th>\n",
              "      <th>pode</th>\n",
              "      <th>poderia</th>\n",
              "      <th>ser</th>\n",
              "      <th>sobre</th>\n",
              "      <th>técnico</th>\n",
              "    </tr>\n",
              "  </thead>\n",
              "  <tbody>\n",
              "    <tr>\n",
              "      <th>0</th>\n",
              "      <td>0.287039</td>\n",
              "      <td>0.000000</td>\n",
              "      <td>0.364073</td>\n",
              "      <td>0.364073</td>\n",
              "      <td>0.287039</td>\n",
              "      <td>0.000000</td>\n",
              "      <td>0.232383</td>\n",
              "      <td>0.000000</td>\n",
              "      <td>0.000000</td>\n",
              "      <td>0.574078</td>\n",
              "      <td>0.000000</td>\n",
              "      <td>0.000000</td>\n",
              "      <td>0.232383</td>\n",
              "      <td>0.000000</td>\n",
              "      <td>0.000000</td>\n",
              "      <td>0.000000</td>\n",
              "      <td>0.000000</td>\n",
              "      <td>0.000000</td>\n",
              "      <td>0.364073</td>\n",
              "      <td>0.000000</td>\n",
              "    </tr>\n",
              "    <tr>\n",
              "      <th>1</th>\n",
              "      <td>0.342426</td>\n",
              "      <td>0.000000</td>\n",
              "      <td>0.000000</td>\n",
              "      <td>0.000000</td>\n",
              "      <td>0.342426</td>\n",
              "      <td>0.000000</td>\n",
              "      <td>0.277223</td>\n",
              "      <td>0.000000</td>\n",
              "      <td>0.000000</td>\n",
              "      <td>0.342426</td>\n",
              "      <td>0.434323</td>\n",
              "      <td>0.000000</td>\n",
              "      <td>0.277223</td>\n",
              "      <td>0.342426</td>\n",
              "      <td>0.000000</td>\n",
              "      <td>0.434323</td>\n",
              "      <td>0.000000</td>\n",
              "      <td>0.000000</td>\n",
              "      <td>0.000000</td>\n",
              "      <td>0.000000</td>\n",
              "    </tr>\n",
              "    <tr>\n",
              "      <th>2</th>\n",
              "      <td>0.000000</td>\n",
              "      <td>0.430037</td>\n",
              "      <td>0.000000</td>\n",
              "      <td>0.000000</td>\n",
              "      <td>0.000000</td>\n",
              "      <td>0.430037</td>\n",
              "      <td>0.000000</td>\n",
              "      <td>0.430037</td>\n",
              "      <td>0.000000</td>\n",
              "      <td>0.000000</td>\n",
              "      <td>0.000000</td>\n",
              "      <td>0.430037</td>\n",
              "      <td>0.274487</td>\n",
              "      <td>0.000000</td>\n",
              "      <td>0.430037</td>\n",
              "      <td>0.000000</td>\n",
              "      <td>0.000000</td>\n",
              "      <td>0.000000</td>\n",
              "      <td>0.000000</td>\n",
              "      <td>0.000000</td>\n",
              "    </tr>\n",
              "    <tr>\n",
              "      <th>3</th>\n",
              "      <td>0.000000</td>\n",
              "      <td>0.000000</td>\n",
              "      <td>0.000000</td>\n",
              "      <td>0.000000</td>\n",
              "      <td>0.000000</td>\n",
              "      <td>0.000000</td>\n",
              "      <td>0.284626</td>\n",
              "      <td>0.000000</td>\n",
              "      <td>0.445922</td>\n",
              "      <td>0.000000</td>\n",
              "      <td>0.000000</td>\n",
              "      <td>0.000000</td>\n",
              "      <td>0.000000</td>\n",
              "      <td>0.351570</td>\n",
              "      <td>0.000000</td>\n",
              "      <td>0.000000</td>\n",
              "      <td>0.445922</td>\n",
              "      <td>0.445922</td>\n",
              "      <td>0.000000</td>\n",
              "      <td>0.445922</td>\n",
              "    </tr>\n",
              "  </tbody>\n",
              "</table>\n",
              "</div>"
            ],
            "text/plain": [
              "         da  desenvolvimento        do        eu      fiap       foi    gostei  importante      mais       mba  melhorar       meu     muito       não      para      pode   poderia       ser     sobre   técnico\n",
              "0  0.287039         0.000000  0.364073  0.364073  0.287039  0.000000  0.232383    0.000000  0.000000  0.574078  0.000000  0.000000  0.232383  0.000000  0.000000  0.000000  0.000000  0.000000  0.364073  0.000000\n",
              "1  0.342426         0.000000  0.000000  0.000000  0.342426  0.000000  0.277223    0.000000  0.000000  0.342426  0.434323  0.000000  0.277223  0.342426  0.000000  0.434323  0.000000  0.000000  0.000000  0.000000\n",
              "2  0.000000         0.430037  0.000000  0.000000  0.000000  0.430037  0.000000    0.430037  0.000000  0.000000  0.000000  0.430037  0.274487  0.000000  0.430037  0.000000  0.000000  0.000000  0.000000  0.000000\n",
              "3  0.000000         0.000000  0.000000  0.000000  0.000000  0.000000  0.284626    0.000000  0.445922  0.000000  0.000000  0.000000  0.000000  0.351570  0.000000  0.000000  0.445922  0.445922  0.000000  0.445922"
            ]
          },
          "execution_count": 9,
          "metadata": {},
          "output_type": "execute_result"
        }
      ],
      "source": [
        "from sklearn.feature_extraction.text import TfidfVectorizer\n",
        "\n",
        "vect = TfidfVectorizer(ngram_range=(1,1), use_idf=True)\n",
        "vect.fit(df_fiap.text)\n",
        "text_vect = vect.transform(df_fiap.text)\n",
        "\n",
        "pd.DataFrame(text_vect.A, columns=vect.get_feature_names_out())"
      ]
    },
    {
      "cell_type": "markdown",
      "id": "795443b5-98b5-4ea6-8754-3ec745c6ffbf",
      "metadata": {
        "id": "795443b5-98b5-4ea6-8754-3ec745c6ffbf"
      },
      "source": [
        "## Biblioteca para normalização de textos\n",
        "\n",
        "Vimos várias maneiras de realizar o tratamento e normalização dos textos ao longo dessas duas aulas (e vou incluir mais algumas opções aqui). Por conta disso, é interessante construir uma classe que implementa todas essas funções. Isso facilita o reaproveitamento de código e permite você construir sua própria biblioteca de códigos"
      ]
    },
    {
      "cell_type": "code",
      "execution_count": null,
      "id": "e3b78d54-84de-4362-a672-27299b029cf1",
      "metadata": {
        "id": "e3b78d54-84de-4362-a672-27299b029cf1"
      },
      "outputs": [],
      "source": [
        "import nltk\n",
        "import re\n",
        "import string\n",
        "import unicodedata\n",
        "\n",
        "from nltk.tokenize import word_tokenize\n",
        "from nltk.corpus import stopwords\n",
        "    \n",
        "        \n",
        "def normalize_accents(text):\n",
        "    return unicodedata.normalize(\"NFKD\", text).encode(\"ASCII\", \"ignore\").decode(\"utf-8\")\n",
        "\n",
        "def normalize_str(text):\n",
        "    text = text.lower()\n",
        "    text = remove_punctuation(text)\n",
        "    text = normalize_accents(text)\n",
        "    text = re.sub(re.compile(r\" +\"), \" \",text)\n",
        "    return \" \".join([w for w in text.split()])\n",
        "\n",
        "def remove_punctuation(text):\n",
        "    punctuations = string.punctuation\n",
        "    table = str.maketrans({key: \" \" for key in punctuations})\n",
        "    text = text.translate(table)\n",
        "    return text\n",
        "\n",
        "\n",
        "def tokenizer(text):\n",
        "    stop_words = nltk.corpus.stopwords.words(\"english\") # portuguese, caso o dataset seja em português\n",
        "    if isinstance(text, str):\n",
        "        text = normalize_str(text)\n",
        "        text = \"\".join([w for w in text if not w.isdigit()])\n",
        "        text = word_tokenize(text)\n",
        "        text = [x for x in text if x not in stop_words]\n",
        "        text = [y for y in text if len(y) > 2]\n",
        "        return \" \".join([t for t in text])\n",
        "    else:\n",
        "        return None\n",
        "\n",
        "    \n",
        "        \n",
        "    "
      ]
    },
    {
      "cell_type": "code",
      "execution_count": null,
      "id": "e2a08604-91dd-43df-abda-de1f6d734375",
      "metadata": {
        "id": "e2a08604-91dd-43df-abda-de1f6d734375",
        "outputId": "9fdeb21a-2ec4-4e9a-f0da-fe1b7d393a46"
      },
      "outputs": [
        {
          "data": {
            "text/plain": [
              "'exemplo normalizacao'"
            ]
          },
          "execution_count": 64,
          "metadata": {},
          "output_type": "execute_result"
        }
      ],
      "source": [
        "tokenizer(\"Exemplo$ de 12 normalização!!\")"
      ]
    },
    {
      "cell_type": "markdown",
      "id": "6daa5585-c253-44db-86d1-51b94cdd03fc",
      "metadata": {
        "id": "6daa5585-c253-44db-86d1-51b94cdd03fc"
      },
      "source": [
        "Vamos agora usar essas funções que criamos num dataset real e entender como realizar o pré-processamento de textos bem como preparar os dados para treinar um modelo de machine learning.\n",
        "\n",
        "Para isso, vamos usar o dataset UCI News Aggregator, que pode ser consultado nesse [link](https://archive.ics.uci.edu/ml/datasets/News+Aggregator)"
      ]
    },
    {
      "cell_type": "code",
      "execution_count": null,
      "id": "be9327ef-988c-4b88-82a2-ce169af10539",
      "metadata": {
        "id": "be9327ef-988c-4b88-82a2-ce169af10539"
      },
      "outputs": [],
      "source": [
        "df = pd.read_csv('uci-news-aggregator.csv')\n",
        "df = df[['TITLE','CATEGORY']]\n",
        "#categories: b = business, t = science and technology, e = entertainment, m = health"
      ]
    },
    {
      "cell_type": "code",
      "execution_count": null,
      "id": "d1d89b61-dea4-4534-9561-9a0ae1af3e19",
      "metadata": {
        "id": "d1d89b61-dea4-4534-9561-9a0ae1af3e19",
        "outputId": "3d12c8db-2d51-4786-f51f-f4fe02b02954"
      },
      "outputs": [
        {
          "data": {
            "text/html": [
              "<div>\n",
              "<style scoped>\n",
              "    .dataframe tbody tr th:only-of-type {\n",
              "        vertical-align: middle;\n",
              "    }\n",
              "\n",
              "    .dataframe tbody tr th {\n",
              "        vertical-align: top;\n",
              "    }\n",
              "\n",
              "    .dataframe thead th {\n",
              "        text-align: right;\n",
              "    }\n",
              "</style>\n",
              "<table border=\"1\" class=\"dataframe\">\n",
              "  <thead>\n",
              "    <tr style=\"text-align: right;\">\n",
              "      <th></th>\n",
              "      <th>TITLE</th>\n",
              "      <th>CATEGORY</th>\n",
              "    </tr>\n",
              "  </thead>\n",
              "  <tbody>\n",
              "    <tr>\n",
              "      <th>0</th>\n",
              "      <td>Nokia X Platform 2.0 will not be supported by ...</td>\n",
              "      <td>t</td>\n",
              "    </tr>\n",
              "    <tr>\n",
              "      <th>1</th>\n",
              "      <td>Jay Z gets his ass handed to him by his sister...</td>\n",
              "      <td>e</td>\n",
              "    </tr>\n",
              "    <tr>\n",
              "      <th>2</th>\n",
              "      <td>Chelsea Handler to end talk show</td>\n",
              "      <td>e</td>\n",
              "    </tr>\n",
              "    <tr>\n",
              "      <th>3</th>\n",
              "      <td>New meteor shower to produce meteor storm live...</td>\n",
              "      <td>t</td>\n",
              "    </tr>\n",
              "    <tr>\n",
              "      <th>4</th>\n",
              "      <td>Fly the spacious skies — private bath, bedroom...</td>\n",
              "      <td>b</td>\n",
              "    </tr>\n",
              "  </tbody>\n",
              "</table>\n",
              "</div>"
            ],
            "text/plain": [
              "                                               TITLE CATEGORY\n",
              "0  Nokia X Platform 2.0 will not be supported by ...        t\n",
              "1  Jay Z gets his ass handed to him by his sister...        e\n",
              "2                   Chelsea Handler to end talk show        e\n",
              "3  New meteor shower to produce meteor storm live...        t\n",
              "4  Fly the spacious skies — private bath, bedroom...        b"
            ]
          },
          "execution_count": 49,
          "metadata": {},
          "output_type": "execute_result"
        }
      ],
      "source": [
        "# shuffle - embaralha as linhas para evitar problema (aprende apenas amostras de uma classe e isso pode levar o gradiente a\n",
        "# ficar preso num mínimo local e só aprender bem sobre tal classe)\n",
        "from sklearn.utils import shuffle\n",
        "df = shuffle(df)\n",
        "df = df.reset_index(drop = True)\n",
        "df.head()"
      ]
    },
    {
      "cell_type": "code",
      "execution_count": null,
      "id": "80933eaa-b282-4cba-8949-22bec699720d",
      "metadata": {
        "id": "80933eaa-b282-4cba-8949-22bec699720d"
      },
      "outputs": [],
      "source": [
        "df['Title_Treated'] = df['TITLE'].apply(tokenizer)"
      ]
    },
    {
      "cell_type": "code",
      "execution_count": null,
      "id": "5844ab95-2d1d-4b16-a74c-a842ccc56776",
      "metadata": {
        "id": "5844ab95-2d1d-4b16-a74c-a842ccc56776",
        "outputId": "3daec378-8d47-4c1c-f052-579a21189d75"
      },
      "outputs": [
        {
          "data": {
            "text/html": [
              "<div>\n",
              "<style scoped>\n",
              "    .dataframe tbody tr th:only-of-type {\n",
              "        vertical-align: middle;\n",
              "    }\n",
              "\n",
              "    .dataframe tbody tr th {\n",
              "        vertical-align: top;\n",
              "    }\n",
              "\n",
              "    .dataframe thead th {\n",
              "        text-align: right;\n",
              "    }\n",
              "</style>\n",
              "<table border=\"1\" class=\"dataframe\">\n",
              "  <thead>\n",
              "    <tr style=\"text-align: right;\">\n",
              "      <th></th>\n",
              "      <th>TITLE</th>\n",
              "      <th>CATEGORY</th>\n",
              "      <th>Title_Treated</th>\n",
              "    </tr>\n",
              "  </thead>\n",
              "  <tbody>\n",
              "    <tr>\n",
              "      <th>0</th>\n",
              "      <td>Nokia X Platform 2.0 will not be supported by ...</td>\n",
              "      <td>t</td>\n",
              "      <td>nokia platform supported nokia</td>\n",
              "    </tr>\n",
              "    <tr>\n",
              "      <th>1</th>\n",
              "      <td>Jay Z gets his ass handed to him by his sister...</td>\n",
              "      <td>e</td>\n",
              "      <td>jay gets ass handed sister law solange knowles</td>\n",
              "    </tr>\n",
              "    <tr>\n",
              "      <th>2</th>\n",
              "      <td>Chelsea Handler to end talk show</td>\n",
              "      <td>e</td>\n",
              "      <td>chelsea handler end talk show</td>\n",
              "    </tr>\n",
              "    <tr>\n",
              "      <th>3</th>\n",
              "      <td>New meteor shower to produce meteor storm live...</td>\n",
              "      <td>t</td>\n",
              "      <td>new meteor shower produce meteor storm live st...</td>\n",
              "    </tr>\n",
              "    <tr>\n",
              "      <th>4</th>\n",
              "      <td>Fly the spacious skies — private bath, bedroom...</td>\n",
              "      <td>b</td>\n",
              "      <td>fly spacious skies private bath bedroom airline</td>\n",
              "    </tr>\n",
              "  </tbody>\n",
              "</table>\n",
              "</div>"
            ],
            "text/plain": [
              "                                               TITLE CATEGORY                                      Title_Treated\n",
              "0  Nokia X Platform 2.0 will not be supported by ...        t                     nokia platform supported nokia\n",
              "1  Jay Z gets his ass handed to him by his sister...        e     jay gets ass handed sister law solange knowles\n",
              "2                   Chelsea Handler to end talk show        e                      chelsea handler end talk show\n",
              "3  New meteor shower to produce meteor storm live...        t  new meteor shower produce meteor storm live st...\n",
              "4  Fly the spacious skies — private bath, bedroom...        b    fly spacious skies private bath bedroom airline"
            ]
          },
          "execution_count": 66,
          "metadata": {},
          "output_type": "execute_result"
        }
      ],
      "source": [
        "df.head()"
      ]
    },
    {
      "cell_type": "markdown",
      "id": "7915a675-84dc-43da-86ea-718ac250168e",
      "metadata": {
        "id": "7915a675-84dc-43da-86ea-718ac250168e"
      },
      "source": [
        "Comparando amostras antes e depois do tratamento:"
      ]
    },
    {
      "cell_type": "code",
      "execution_count": null,
      "id": "9af0f2ea-9484-45f0-b71a-0e39c998756d",
      "metadata": {
        "id": "9af0f2ea-9484-45f0-b71a-0e39c998756d",
        "outputId": "a5e40d3b-8cc6-4c1f-f45a-e508f9a155f0"
      },
      "outputs": [
        {
          "name": "stdout",
          "output_type": "stream",
          "text": [
            "Antes:  Nokia X Platform 2.0 will not be supported by Nokia X, X+ and XL \n",
            "\n",
            "Depois:  nokia platform supported nokia\n"
          ]
        }
      ],
      "source": [
        "print('Antes: ', df['TITLE'][0], '\\n')\n",
        "print('Depois: ', df['Title_Treated'][0])"
      ]
    },
    {
      "cell_type": "markdown",
      "id": "c11e1b3a-8c4e-4462-b3b6-7bcaa6236684",
      "metadata": {
        "id": "c11e1b3a-8c4e-4462-b3b6-7bcaa6236684"
      },
      "source": [
        "Criando features e Labels. A título de comparação com o modelo de representação Word2Vec que veremos na última aula, vamos usar apenas as primeiras 100k amostras e, a partir delas, criar conjunto de treino e teste. "
      ]
    },
    {
      "cell_type": "code",
      "execution_count": null,
      "id": "95a9c223-740b-4b4c-9f39-4db9dd07931a",
      "metadata": {
        "id": "95a9c223-740b-4b4c-9f39-4db9dd07931a"
      },
      "outputs": [],
      "source": [
        "from sklearn.model_selection import train_test_split\n",
        "X = df['Title_Treated'].iloc[0:99999] \n",
        "y = df['CATEGORY'].iloc[0:99999]\n",
        "X_train, X_test, y_train, y_test = train_test_split(X, y, test_size=0.3, random_state=42)"
      ]
    },
    {
      "cell_type": "markdown",
      "id": "3f7a4cec-ec2c-4d8d-9442-87e3934159e1",
      "metadata": {
        "id": "3f7a4cec-ec2c-4d8d-9442-87e3934159e1"
      },
      "source": [
        "Agora, precisamos transformar os dados para a representação numérica. Vamos usar o modelo BoW, que pode ser obtido usando CountVectorizer "
      ]
    },
    {
      "cell_type": "code",
      "execution_count": null,
      "id": "60722691-3232-4055-9bc7-f1b559a490e8",
      "metadata": {
        "id": "60722691-3232-4055-9bc7-f1b559a490e8",
        "outputId": "b173d959-b8b4-4fa2-af52-fed2516ce071"
      },
      "outputs": [
        {
          "data": {
            "text/plain": [
              "<69999x26330 sparse matrix of type '<class 'numpy.int64'>'\n",
              "\twith 461985 stored elements in Compressed Sparse Row format>"
            ]
          },
          "execution_count": 81,
          "metadata": {},
          "output_type": "execute_result"
        }
      ],
      "source": [
        "from sklearn.feature_extraction.text import CountVectorizer\n",
        "vect = CountVectorizer(lowercase=False) \n",
        "vect.fit(X_train)\n",
        "X_train = vect.transform(X_train)\n",
        "X_train"
      ]
    },
    {
      "cell_type": "code",
      "execution_count": null,
      "id": "415fc129-141a-413e-a275-ef96161e26de",
      "metadata": {
        "id": "415fc129-141a-413e-a275-ef96161e26de",
        "outputId": "42a8fce2-29ec-493b-f43e-64f685eac50e"
      },
      "outputs": [
        {
          "data": {
            "text/plain": [
              "<30000x26330 sparse matrix of type '<class 'numpy.int64'>'\n",
              "\twith 193764 stored elements in Compressed Sparse Row format>"
            ]
          },
          "execution_count": 82,
          "metadata": {},
          "output_type": "execute_result"
        }
      ],
      "source": [
        "X_test = vect.transform(X_test)\n",
        "X_test"
      ]
    },
    {
      "cell_type": "code",
      "execution_count": null,
      "id": "fed4d4dc-e716-4b33-a919-f04a655c118c",
      "metadata": {
        "id": "fed4d4dc-e716-4b33-a919-f04a655c118c"
      },
      "outputs": [],
      "source": [
        "from sklearn import svm\n",
        "clf = svm.SVC(kernel='linear') \n",
        "clf.fit(X_train, y_train)\n",
        "y_pred = clf.predict(X_test)"
      ]
    },
    {
      "cell_type": "code",
      "execution_count": null,
      "id": "babc5edc-1f4b-4310-84ee-a1415eb8e5d2",
      "metadata": {
        "id": "babc5edc-1f4b-4310-84ee-a1415eb8e5d2",
        "outputId": "659c3d18-d6e1-41bf-cc6f-5c2af0f253c7"
      },
      "outputs": [
        {
          "name": "stdout",
          "output_type": "stream",
          "text": [
            "Accuracy: 0.9229666666666667\n"
          ]
        }
      ],
      "source": [
        "from sklearn import metrics\n",
        "print(\"Accuracy:\",metrics.accuracy_score(y_test, y_pred))"
      ]
    },
    {
      "cell_type": "code",
      "execution_count": null,
      "id": "2193ffaf-bd43-4af7-b637-278dc972f298",
      "metadata": {
        "id": "2193ffaf-bd43-4af7-b637-278dc972f298"
      },
      "outputs": [],
      "source": []
    }
  ],
  "metadata": {
    "kernelspec": {
      "display_name": "Python 3 (ipykernel)",
      "language": "python",
      "name": "python3"
    },
    "language_info": {
      "codemirror_mode": {
        "name": "ipython",
        "version": 3
      },
      "file_extension": ".py",
      "mimetype": "text/x-python",
      "name": "python",
      "nbconvert_exporter": "python",
      "pygments_lexer": "ipython3",
      "version": "3.9.12"
    },
    "colab": {
      "provenance": []
    }
  },
  "nbformat": 4,
  "nbformat_minor": 5
}